{
 "cells": [
  {
   "cell_type": "code",
   "execution_count": 39,
   "metadata": {
    "collapsed": false
   },
   "outputs": [
    {
     "name": "stdout",
     "output_type": "stream",
     "text": [
      "['here', 'are', 'some', 'words']\n"
     ]
    }
   ],
   "source": [
    "import re\n",
    "print (re.split(r'\\s', 'here are some words'))\n"
   ]
  },
  {
   "cell_type": "code",
   "execution_count": 10,
   "metadata": {
    "collapsed": false
   },
   "outputs": [
    {
     "name": "stdout",
     "output_type": "stream",
     "text": [
      "['here', ' ', 'are', ' ', 'some', ' ', 'words']\n"
     ]
    }
   ],
   "source": [
    "\n",
    "print (re.split(r'(\\s)', 'here are some words'))"
   ]
  },
  {
   "cell_type": "code",
   "execution_count": 11,
   "metadata": {
    "collapsed": false
   },
   "outputs": [
    {
     "name": "stdout",
     "output_type": "stream",
     "text": [
      "['here are ', 'ome word', '']\n"
     ]
    }
   ],
   "source": [
    "\n",
    "print (re.split(r's', 'here are some words'))"
   ]
  },
  {
   "cell_type": "code",
   "execution_count": 17,
   "metadata": {
    "collapsed": false
   },
   "outputs": [
    {
     "name": "stdout",
     "output_type": "stream",
     "text": [
      "['here', 'are', 'some', 'words']\n"
     ]
    }
   ],
   "source": [
    "\n",
    "print (re.split(r'\\s', 'here are some words'))"
   ]
  },
  {
   "cell_type": "code",
   "execution_count": 20,
   "metadata": {
    "collapsed": false
   },
   "outputs": [
    {
     "name": "stdout",
     "output_type": "stream",
     "text": [
      "['', 'A', 'B', 'C', 'D', 'E', 'FgG']\n"
     ]
    }
   ],
   "source": [
    "print (re.split(r'[a-f]', 'aAbBcCdDeEfFgG'))"
   ]
  },
  {
   "cell_type": "code",
   "execution_count": 23,
   "metadata": {
    "collapsed": false
   },
   "outputs": [
    {
     "name": "stdout",
     "output_type": "stream",
     "text": [
      "['', 'A', 'B', 'C', 'D', 'E', 'FgG']\n"
     ]
    }
   ],
   "source": [
    "print (re.split(r'[a-f]', 'aAbBcCdDeEfFgG', re.I|re.M))\n",
    "## re.I = ignore case. re.M = multiline"
   ]
  },
  {
   "cell_type": "code",
   "execution_count": 24,
   "metadata": {
    "collapsed": false
   },
   "outputs": [
    {
     "name": "stdout",
     "output_type": "stream",
     "text": [
      "['', '', '', '', '', '', '', '', '', '', 'fFgG']\n"
     ]
    }
   ],
   "source": [
    "print (re.split(r'[a-fA-F]', 'aAbBcCdDeEfFgG', re.I|re.M))"
   ]
  },
  {
   "cell_type": "code",
   "execution_count": 26,
   "metadata": {
    "collapsed": false
   },
   "outputs": [
    {
     "name": "stdout",
     "output_type": "stream",
     "text": [
      "['a', 'bB', 'CdDeE', 'FgG']\n"
     ]
    }
   ],
   "source": [
    "print (re.split(r'[a-fA-F][z]', 'aAzbBczCdDeEfzFgG', re.I|re.M))"
   ]
  },
  {
   "cell_type": "code",
   "execution_count": 28,
   "metadata": {
    "collapsed": false
   },
   "outputs": [
    {
     "name": "stdout",
     "output_type": "stream",
     "text": [
      "['osdafasd ', '', '', ' main st']\n"
     ]
    }
   ],
   "source": [
    "print (re.split(r'\\d','osdafasd 123 main st'))\n",
    "#\\d = digits, ie. 0-9  \\D = non-digits because capital means opposite"
   ]
  },
  {
   "cell_type": "code",
   "execution_count": 30,
   "metadata": {
    "collapsed": false
   },
   "outputs": [
    {
     "name": "stdout",
     "output_type": "stream",
     "text": [
      "['1', '2', '3']\n"
     ]
    }
   ],
   "source": [
    "print (re.findall(r'\\d','osdafasd 123 main st'))\n",
    "#find all = make a list of everything we searched for"
   ]
  },
  {
   "cell_type": "code",
   "execution_count": 43,
   "metadata": {
    "collapsed": false
   },
   "outputs": [
    {
     "name": "stdout",
     "output_type": "stream",
     "text": [
      "['123']\n"
     ]
    }
   ],
   "source": [
    "print (re.findall(r'\\d{1,3}','osdafasd 123 main st.ffgf'))\n",
    "#{1,3} = all digits 1,3. Is the 3 included???"
   ]
  },
  {
   "cell_type": "code",
   "execution_count": 36,
   "metadata": {
    "collapsed": false
   },
   "outputs": [
    {
     "name": "stdout",
     "output_type": "stream",
     "text": [
      "['123 m']\n"
     ]
    }
   ],
   "source": [
    "print (re.findall(r'\\d{1,3}\\s\\w','osdafasd 123 main st.fgff'))\n",
    "# \\w = letter or number"
   ]
  },
  {
   "cell_type": "code",
   "execution_count": 40,
   "metadata": {
    "collapsed": false
   },
   "outputs": [
    {
     "name": "stdout",
     "output_type": "stream",
     "text": [
      "['123 m']\n"
     ]
    }
   ],
   "source": [
    "print (re.findall(r'\\d{1,3}\\s\\w','osdafasd 123 main st.fgfg'))"
   ]
  },
  {
   "cell_type": "code",
   "execution_count": 42,
   "metadata": {
    "collapsed": false
   },
   "outputs": [
    {
     "name": "stdout",
     "output_type": "stream",
     "text": [
      "['123 main']\n"
     ]
    }
   ],
   "source": [
    "print (re.findall(r'\\d{1,3}\\s\\w+','osdafasd 123 main st.fffg'))\n",
    "# * = 0 or more \n",
    "# + = 1 or more\n",
    "# {5} = exactly 5"
   ]
  },
  {
   "cell_type": "code",
   "execution_count": 44,
   "metadata": {
    "collapsed": false
   },
   "outputs": [
    {
     "name": "stdout",
     "output_type": "stream",
     "text": [
      "['123 main st']\n"
     ]
    }
   ],
   "source": [
    "print (re.findall(r'\\d{1,3}\\s\\w+\\s\\w+','osdafasd 123 main st.ffff'))"
   ]
  },
  {
   "cell_type": "code",
   "execution_count": 46,
   "metadata": {
    "collapsed": false
   },
   "outputs": [
    {
     "name": "stdout",
     "output_type": "stream",
     "text": [
      "['123 main st.']\n"
     ]
    }
   ],
   "source": [
    "print (re.findall(r'\\d{1,3}\\s\\w+\\s\\w+\\.','osdafasd 123 main st.ffff'))\n",
    "# \\. = . But, . = Anything except newline (\\n)"
   ]
  },
  {
   "cell_type": "code",
   "execution_count": null,
   "metadata": {
    "collapsed": true
   },
   "outputs": [],
   "source": []
  }
 ],
 "metadata": {
  "anaconda-cloud": {},
  "kernelspec": {
   "display_name": "Python [default]",
   "language": "python",
   "name": "python3"
  },
  "language_info": {
   "codemirror_mode": {
    "name": "ipython",
    "version": 3
   },
   "file_extension": ".py",
   "mimetype": "text/x-python",
   "name": "python",
   "nbconvert_exporter": "python",
   "pygments_lexer": "ipython3",
   "version": "3.5.2"
  }
 },
 "nbformat": 4,
 "nbformat_minor": 1
}
