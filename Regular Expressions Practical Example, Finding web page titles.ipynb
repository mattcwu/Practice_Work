{
 "cells": [
  {
   "cell_type": "code",
   "execution_count": 4,
   "metadata": {
    "collapsed": false
   },
   "outputs": [
    {
     "name": "stdout",
     "output_type": "stream",
     "text": [
      "Searching: google\n",
      "<title>Google</title>\n",
      "Searching: yahoo\n",
      "<title>Yahoo</title>\n",
      "Searching: cnn\n",
      "<title>CNN - Breaking News, Latest News and Videos</title>\n",
      "Searching: msn\n",
      "<title>MSN.com - Hotmail, Outlook, Skype, Bing, Latest News, Photos &amp; Videos</title>\n"
     ]
    }
   ],
   "source": [
    "import re, urllib # Find and print the titles or webpages\n",
    "try:\n",
    "    import urllib.request\n",
    "except:\n",
    "    pass # lets the code pass any errors it might get\n",
    "\n",
    "sites = 'google yahoo cnn msn'.split() # splits this string into each word\n",
    "pat = re.compile(r'<title>+.*</title>+', re.I|re.M) # The guy said, .compile should go here to save on memory demand?\n",
    "## re.I ignores CaSe, this searches for <title> + means look for the text before + 1 or more times\n",
    "# . which means any character, * means any number of times(including 0) and then <title> again \n",
    "# overall, this looks for <title> then anything in between and <title> again, a common convention for titles in webpages.\n",
    "for s in sites:\n",
    "    print ('Searching: ' + s)\n",
    "    try:\n",
    "        u = urllib.urlopen('http://' + s + '.com')\n",
    "    except:\n",
    "        u = urllib.request.urlopen('http://' + s + '.com')\n",
    "    text = u.read()\n",
    "    title = re.findall(pat, str(text))\n",
    "    print(title[0])"
   ]
  },
  {
   "cell_type": "code",
   "execution_count": null,
   "metadata": {
    "collapsed": false
   },
   "outputs": [],
   "source": []
  },
  {
   "cell_type": "code",
   "execution_count": null,
   "metadata": {
    "collapsed": true
   },
   "outputs": [],
   "source": []
  }
 ],
 "metadata": {
  "anaconda-cloud": {},
  "kernelspec": {
   "display_name": "Python [default]",
   "language": "python",
   "name": "python3"
  },
  "language_info": {
   "codemirror_mode": {
    "name": "ipython",
    "version": 3
   },
   "file_extension": ".py",
   "mimetype": "text/x-python",
   "name": "python",
   "nbconvert_exporter": "python",
   "pygments_lexer": "ipython3",
   "version": "3.5.2"
  }
 },
 "nbformat": 4,
 "nbformat_minor": 1
}
